{
  "nbformat": 4,
  "nbformat_minor": 0,
  "metadata": {
    "colab": {
      "provenance": [],
      "authorship_tag": "ABX9TyML60sXfjj/BOO2yzQsxPI8",
      "include_colab_link": true
    },
    "kernelspec": {
      "name": "python3",
      "display_name": "Python 3"
    },
    "language_info": {
      "name": "python"
    }
  },
  "cells": [
    {
      "cell_type": "markdown",
      "metadata": {
        "id": "view-in-github",
        "colab_type": "text"
      },
      "source": [
        "<a href=\"https://colab.research.google.com/github/josepmariasiso/Projecte-Machine-Learning/blob/main/Sprint0.ipynb\" target=\"_parent\"><img src=\"https://colab.research.google.com/assets/colab-badge.svg\" alt=\"Open In Colab\"/></a>"
      ]
    },
    {
      "cell_type": "markdown",
      "source": [
        "# Exercicis de comprovació Sprint0\n",
        "En aquesta activitat posaràs en pràctica la creació de l'entorn de treball i les nocions bàsiques de Jupyter Notebook, Markdown i GitHub. En acabar-la ja estaràs en condicions per continuar amb el curs.\n",
        "- Exercici 1 - Instal·la el programa Anaconda amb Python 3, i Jupyter Notebook. --> **Realitzat en Colab**"
      ],
      "metadata": {
        "id": "nre7kNIXwIRN"
      }
    },
    {
      "cell_type": "code",
      "source": [
        "import pandas as pd"
      ],
      "metadata": {
        "id": "Ogf-nIoRy069"
      },
      "execution_count": 7,
      "outputs": []
    },
    {
      "cell_type": "markdown",
      "source": [
        "- Exercici 2 - Crea un entorn virtual a Anaconda amb el nom \"entorn_ML\" que contingui les llibreries necessàries per a ML.\n"
      ],
      "metadata": {
        "id": "6b3qTpujyB9P"
      }
    },
    {
      "cell_type": "code",
      "source": [
        "import numpy\n",
        "import matplotlib"
      ],
      "metadata": {
        "id": "Kc0tyKsCzEAP"
      },
      "execution_count": 9,
      "outputs": []
    },
    {
      "cell_type": "markdown",
      "source": [
        "- Exercici 3 - Utilitzant Jupyter Notebook executa alguns càlculs senzills, a la vegada que et familiaritzes amb el llenguatge Markdown."
      ],
      "metadata": {
        "id": "K9SCQZ8Wy7MP"
      }
    },
    {
      "cell_type": "code",
      "source": [
        "from sklearn.model_selection import train_test_split\n",
        "from sklearn.linear_model import LogisticRegression\n",
        "\n",
        "# Load the iris dataset\n",
        "iris = pd.read_csv('https://archive.ics.uci.edu/ml/machine-learning-databases/iris/iris.data', header=None)\n",
        "\n",
        "# Split the data into features (X) and target (y)\n",
        "X = iris.iloc[:, :-1]\n",
        "y = iris.iloc[:, -1]\n",
        "\n",
        "# Split the data into training and testing sets\n",
        "X_train, X_test, y_train, y_test = train_test_split(X, y, test_size=0.2, random_state=42)\n",
        "\n",
        "# Create a Logistic Regression model\n",
        "model = LogisticRegression()\n",
        "\n",
        "# Train the model\n",
        "model.fit(X_train, y_train)\n",
        "\n",
        "# Make predictions on the test set\n",
        "y_pred = model.predict(X_test)"
      ],
      "metadata": {
        "id": "c5V4J7CL0OzL"
      },
      "execution_count": 11,
      "outputs": []
    },
    {
      "cell_type": "markdown",
      "source": [
        "- Exercici 4 - Prova de crear títols, llistes, canviar l’estil de la lletra o afegir imatges dins del Notebook.\n",
        "\n",
        "<img src=\"https://revistacentinela.es/wp-content/uploads/2023/09/Gioconda-Botero-1.jpg\" height=\"200px\">\n"
      ],
      "metadata": {
        "id": "Je58QV_40Ff3"
      }
    },
    {
      "cell_type": "markdown",
      "source": [
        "- Exercici 5 - Crea un repositori a GitHub amb el nom \"Projecte Machine Learning\" --> **https://github.com/josepmariasiso/Projecte-Machine-Learning**\n",
        "- Exercici 6 - Puja el fitxer de Jupyter Notebook al teu repositori de GitHub."
      ],
      "metadata": {
        "id": "-uLx0YDazZda"
      }
    }
  ]
}