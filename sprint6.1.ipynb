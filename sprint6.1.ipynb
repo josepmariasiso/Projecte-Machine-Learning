{
  "nbformat": 4,
  "nbformat_minor": 0,
  "metadata": {
    "colab": {
      "provenance": []
    },
    "kernelspec": {
      "name": "python3",
      "display_name": "Python 3"
    },
    "language_info": {
      "name": "python"
    }
  },
  "cells": [
    {
      "cell_type": "code",
      "execution_count": 96,
      "metadata": {
        "id": "1dOfEOeunMHv"
      },
      "outputs": [],
      "source": [
        "import pandas as pd\n",
        "import numpy as np\n",
        "import matplotlib.pyplot as plt\n",
        "import seaborn as sns\n",
        "\n",
        "df = pd.read_csv ('https://raw.githubusercontent.com/ITACADEMYprojectes/projecteML/refs/heads/main/bank_dataset.CSV')\n"
      ]
    },
    {
      "cell_type": "markdown",
      "source": [
        "Tractem el dataset per a deixar-lo al mateix punt que finalitzant la entrega anterior\n"
      ],
      "metadata": {
        "id": "ZzEuoJFjTlDw"
      }
    },
    {
      "cell_type": "code",
      "source": [
        "from scipy.stats.mstats import winsorize\n",
        "\n",
        "# Tractament dels Outliers Balance\n",
        "Q1 = df[\"balance\"].quantile(0.25)\n",
        "Q3 = df[\"balance\"].quantile(0.75)\n",
        "iqr = Q3 - Q1 # Rang interquartil·lic\n",
        "upper = Q3 + (1.5*iqr)\n",
        "lower = Q1 + (1.5*iqr)\n",
        "outliers = df[(df['balance'] < lower) | (df['balance'] > upper)]\n",
        "df[\"balance\"]= winsorize(df[\"balance\"], limits=[0.1, 0.1], inplace=True)\n",
        "\n",
        "# Tractament dels Outliers Age\n",
        "Q1 = df['age'].quantile(0.05)\n",
        "Q3 = df['age'].quantile(0.05)\n",
        "iqr = Q3 - Q1# Rang interquartil·lic\n",
        "upper = Q3 + (1.5*iqr)\n",
        "lower = Q1 + (1.5*iqr)\n",
        "outliers = df[(df['age'] < lower) | (df['age'] > upper)]\n",
        "df[\"age\"]= winsorize(df[\"age\"], limits=[0.05, 0.05], inplace=True)\n",
        "\n",
        "#completem els valors categorics desconeguts amb \"unknown\"\n",
        "df['marital'] = df[\"marital\"].fillna(\"unknown\")\n",
        "df['education'] = df[\"education\"].fillna(\"unknown\")\n",
        "\n",
        "df.info()"
      ],
      "metadata": {
        "colab": {
          "base_uri": "https://localhost:8080/"
        },
        "id": "8orLi5y3NjoL",
        "outputId": "18517dbf-266f-4fe8-d183-3c5579176dc9"
      },
      "execution_count": 97,
      "outputs": [
        {
          "output_type": "stream",
          "name": "stdout",
          "text": [
            "<class 'pandas.core.frame.DataFrame'>\n",
            "RangeIndex: 11162 entries, 0 to 11161\n",
            "Data columns (total 17 columns):\n",
            " #   Column     Non-Null Count  Dtype  \n",
            "---  ------     --------------  -----  \n",
            " 0   age        11162 non-null  float64\n",
            " 1   job        11162 non-null  object \n",
            " 2   marital    11162 non-null  object \n",
            " 3   education  11162 non-null  object \n",
            " 4   default    11162 non-null  object \n",
            " 5   balance    11162 non-null  int64  \n",
            " 6   housing    11162 non-null  object \n",
            " 7   loan       11162 non-null  object \n",
            " 8   contact    11162 non-null  object \n",
            " 9   day        11162 non-null  int64  \n",
            " 10  month      11162 non-null  object \n",
            " 11  duration   11162 non-null  int64  \n",
            " 12  campaign   11162 non-null  int64  \n",
            " 13  pdays      11162 non-null  int64  \n",
            " 14  previous   11162 non-null  int64  \n",
            " 15  poutcome   11162 non-null  object \n",
            " 16  deposit    11162 non-null  object \n",
            "dtypes: float64(1), int64(6), object(10)\n",
            "memory usage: 1.4+ MB\n"
          ]
        }
      ]
    },
    {
      "cell_type": "code",
      "source": [
        "#reduim la dimensionalitat en totes les variable categoriques\n",
        "\n",
        "#reduim les dimensions de job\n",
        "valor_others = df['job'].isin(['unemployed', 'unknown', 'housemaid', 'entrepreneur'])\n",
        "df.loc[valor_others, 'job'] = 'others'\n",
        "df['job'] = df['job'].astype('category')\n",
        "\n",
        "#reduim les dimensions de marital\n",
        "valor_others = df['marital'].isin(['divorced', 'unknown'])\n",
        "df.loc[valor_others, 'marital'] = 'others'\n",
        "df['marital']=df['marital'].astype('category')\n",
        "\n",
        "#reduim les dimensions de education\n",
        "valor_others = df['education'].isin(['unknown','primary'])\n",
        "df.loc[valor_others, 'education'] = 'others'\n",
        "df['education']=df['education'].astype('category')\n",
        "\n",
        "default_={'yes':1,'no':0}\n",
        "df['default']=df['default'].map(default_)\n",
        "\n",
        "housing_={'yes':1,'no':0}\n",
        "df['housing']=df['housing'].map(housing_)\n",
        "\n",
        "loan_={'yes':1,'no':0}\n",
        "df['loan']=df['loan'].map(loan_)\n",
        "\n",
        "#reduim les dimensions de contact\n",
        "valor_others = df['contact'].isin(['unknown','telephone'])\n",
        "df.loc[valor_others, 'contact'] = 'others'\n",
        "\n",
        "#reduir les dimensions de poutcome\n",
        "valor_others = df['poutcome'].isin(['unknown','other'])\n",
        "df.loc[valor_others, 'poutcome'] = 'others'\n",
        "\n",
        "deposit_={'yes':1,'no':0}\n",
        "df['deposit']=df['deposit'].map(deposit_)\n",
        "\n",
        "df.info()"
      ],
      "metadata": {
        "colab": {
          "base_uri": "https://localhost:8080/"
        },
        "id": "QcTvSSigUVzZ",
        "outputId": "f62baf76-7677-40a2-c800-8d4bcccfc300"
      },
      "execution_count": 98,
      "outputs": [
        {
          "output_type": "stream",
          "name": "stdout",
          "text": [
            "<class 'pandas.core.frame.DataFrame'>\n",
            "RangeIndex: 11162 entries, 0 to 11161\n",
            "Data columns (total 17 columns):\n",
            " #   Column     Non-Null Count  Dtype   \n",
            "---  ------     --------------  -----   \n",
            " 0   age        11162 non-null  float64 \n",
            " 1   job        11162 non-null  category\n",
            " 2   marital    11162 non-null  category\n",
            " 3   education  11162 non-null  category\n",
            " 4   default    11162 non-null  int64   \n",
            " 5   balance    11162 non-null  int64   \n",
            " 6   housing    11162 non-null  int64   \n",
            " 7   loan       11162 non-null  int64   \n",
            " 8   contact    11162 non-null  object  \n",
            " 9   day        11162 non-null  int64   \n",
            " 10  month      11162 non-null  object  \n",
            " 11  duration   11162 non-null  int64   \n",
            " 12  campaign   11162 non-null  int64   \n",
            " 13  pdays      11162 non-null  int64   \n",
            " 14  previous   11162 non-null  int64   \n",
            " 15  poutcome   11162 non-null  object  \n",
            " 16  deposit    11162 non-null  int64   \n",
            "dtypes: category(3), float64(1), int64(10), object(3)\n",
            "memory usage: 1.2+ MB\n"
          ]
        }
      ]
    },
    {
      "cell_type": "code",
      "source": [
        "# Codificacio Categorica One-Hot\n",
        "from sklearn.preprocessing import OneHotEncoder\n",
        "\n",
        "codificador = OneHotEncoder()\n",
        "codificacion = codificador.fit_transform(df[['job', 'marital','education','contact','month','poutcome']])\n",
        "\n",
        "new_columns = pd.DataFrame(codificacion.toarray(),\n",
        "                    columns=codificador.get_feature_names_out())\n",
        "\n",
        "combined_df = pd.concat([df, new_columns], axis=1)\n",
        "df = combined_df.drop(['job', 'marital','education','contact','month','poutcome'], axis=1)\n",
        "df.info()\n"
      ],
      "metadata": {
        "colab": {
          "base_uri": "https://localhost:8080/"
        },
        "id": "nRU5vyvuyM-g",
        "outputId": "5b0ec41f-5710-4e3c-c3c0-97c1a48c0d51"
      },
      "execution_count": 99,
      "outputs": [
        {
          "output_type": "stream",
          "name": "stdout",
          "text": [
            "<class 'pandas.core.frame.DataFrame'>\n",
            "RangeIndex: 11162 entries, 0 to 11161\n",
            "Data columns (total 43 columns):\n",
            " #   Column               Non-Null Count  Dtype  \n",
            "---  ------               --------------  -----  \n",
            " 0   age                  11162 non-null  float64\n",
            " 1   default              11162 non-null  int64  \n",
            " 2   balance              11162 non-null  int64  \n",
            " 3   housing              11162 non-null  int64  \n",
            " 4   loan                 11162 non-null  int64  \n",
            " 5   day                  11162 non-null  int64  \n",
            " 6   duration             11162 non-null  int64  \n",
            " 7   campaign             11162 non-null  int64  \n",
            " 8   pdays                11162 non-null  int64  \n",
            " 9   previous             11162 non-null  int64  \n",
            " 10  deposit              11162 non-null  int64  \n",
            " 11  job_admin.           11162 non-null  float64\n",
            " 12  job_blue-collar      11162 non-null  float64\n",
            " 13  job_management       11162 non-null  float64\n",
            " 14  job_others           11162 non-null  float64\n",
            " 15  job_retired          11162 non-null  float64\n",
            " 16  job_self-employed    11162 non-null  float64\n",
            " 17  job_services         11162 non-null  float64\n",
            " 18  job_student          11162 non-null  float64\n",
            " 19  job_technician       11162 non-null  float64\n",
            " 20  marital_married      11162 non-null  float64\n",
            " 21  marital_others       11162 non-null  float64\n",
            " 22  marital_single       11162 non-null  float64\n",
            " 23  education_others     11162 non-null  float64\n",
            " 24  education_secondary  11162 non-null  float64\n",
            " 25  education_tertiary   11162 non-null  float64\n",
            " 26  contact_cellular     11162 non-null  float64\n",
            " 27  contact_others       11162 non-null  float64\n",
            " 28  month_apr            11162 non-null  float64\n",
            " 29  month_aug            11162 non-null  float64\n",
            " 30  month_dec            11162 non-null  float64\n",
            " 31  month_feb            11162 non-null  float64\n",
            " 32  month_jan            11162 non-null  float64\n",
            " 33  month_jul            11162 non-null  float64\n",
            " 34  month_jun            11162 non-null  float64\n",
            " 35  month_mar            11162 non-null  float64\n",
            " 36  month_may            11162 non-null  float64\n",
            " 37  month_nov            11162 non-null  float64\n",
            " 38  month_oct            11162 non-null  float64\n",
            " 39  month_sep            11162 non-null  float64\n",
            " 40  poutcome_failure     11162 non-null  float64\n",
            " 41  poutcome_others      11162 non-null  float64\n",
            " 42  poutcome_success     11162 non-null  float64\n",
            "dtypes: float64(33), int64(10)\n",
            "memory usage: 3.7 MB\n"
          ]
        }
      ]
    },
    {
      "cell_type": "markdown",
      "source": [
        "Sel·leccionar subconjunts de dades d'entrenament i de prova"
      ],
      "metadata": {
        "id": "ybE7NwnIV8T-"
      }
    },
    {
      "cell_type": "code",
      "source": [
        "from sklearn.model_selection import train_test_split\n",
        "from sklearn.preprocessing import StandardScaler\n",
        "from sklearn.decomposition import PCA\n",
        "\n",
        "Y=df.loc[:,['deposit']]\n",
        "X=df.loc[:, df.columns != 'deposit']\n",
        "\n",
        "# Escalem el conjunt de les dades X\n",
        "scaler = StandardScaler()\n",
        "X_scaled = scaler.fit_transform(X)\n",
        "\n",
        "# Apliquem PCA\n",
        "pca = PCA(n_components=0.90)\n",
        "X_pca = pca.fit_transform(X_scaled)\n",
        "\n",
        "\n",
        "X_train, X_test, Y_train, Y_test = train_test_split(X_pca, Y,\n",
        "                                                    test_size=0.2, # 80% assignat a entrenament + 20% assignat a test\n",
        "                                                    random_state=0, # seleccionar dades aleatoriament\n",
        "                                                    stratify=Y) # mantenir la mateixa distribucio èxit/fracàs en ambdos conjunts\n",
        "\n",
        "X.shape, X_train.shape, X_test.shape,Y_train.shape, Y_test.shape"
      ],
      "metadata": {
        "id": "Epf3U-JeWFJ2",
        "colab": {
          "base_uri": "https://localhost:8080/"
        },
        "outputId": "80522812-944f-4e1a-f3cc-f86771f9f2dd"
      },
      "execution_count": 100,
      "outputs": [
        {
          "output_type": "execute_result",
          "data": {
            "text/plain": [
              "((11162, 42), (8929, 29), (2233, 29), (8929, 1), (2233, 1))"
            ]
          },
          "metadata": {},
          "execution_count": 100
        }
      ]
    },
    {
      "cell_type": "markdown",
      "source": [
        "##Conclusio:\n",
        "\n",
        "\n",
        "*   Hem reduit la dimensionalitat de les variables amb mes valors possibles\n",
        "*   Hem escalat la matriu de categories\n",
        "* Hem aplicat PCA per passar de 42 columnes a 29 mantenint una variança del 90%\n",
        "* Finalment hem dividit les dades en dos conjunts de prova (2233 - 20%) i entrenament (8929 - 80%), mantenint la mateixa ratio d'exit/fracas en ambdos conjunts.\n",
        "\n",
        "\n"
      ],
      "metadata": {
        "id": "I-F_PDQuQx3K"
      }
    }
  ]
}