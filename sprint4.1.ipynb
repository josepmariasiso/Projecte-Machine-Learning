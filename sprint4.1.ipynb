{
  "nbformat": 4,
  "nbformat_minor": 0,
  "metadata": {
    "colab": {
      "provenance": []
    },
    "kernelspec": {
      "name": "python3",
      "display_name": "Python 3"
    },
    "language_info": {
      "name": "python"
    }
  },
  "cells": [
    {
      "cell_type": "markdown",
      "source": [
        "https://github.com/josepmariasiso/Projecte-Machine-Learning/sprint4.1.ipynb\n",
        "\n",
        "\n",
        "\n",
        "**Exercici 1. Consumir una API**\n",
        "\n",
        "Selecciona una API pública i extreu dades utilitzant Python."
      ],
      "metadata": {
        "id": "LovdHIULvll6"
      }
    },
    {
      "cell_type": "code",
      "source": [
        "## Exemple per mostrar el titol i el comentari del primer post\n",
        "import requests\n",
        "\n",
        "base_url = \"https://jsonplaceholder.typicode.com\"\n",
        "\n",
        "# Construir la URL de sol·licitud\n",
        "#/posts \t100 posts\n",
        "#/comments \t500 comments\n",
        "#/albums \t100 albums\n",
        "#/photos \t5000 photos\n",
        "#/todos \t200 todos\n",
        "#/users\n",
        "url = f\"{base_url}/posts\"\n",
        "\n",
        "# Fer la sol·licitud GET\n",
        "response = requests.get(url)\n",
        "\n",
        "# Verificar si la sol·licitud ha estat exitosa\n",
        "if response.status_code == 200:\n",
        "    # Extreure les dades en format JSON\n",
        "    dades = response.json()\n",
        "\n",
        "    # Extreure algunes dades específiques\n",
        "    title = dades[0]['title']\n",
        "    body = dades[0]['body']\n",
        "\n",
        "    # Mostrar les dades extretes\n",
        "    print(f\"El primer posts te com a titol: {title}\")\n",
        "    print(f\"El seu comentari es: {body}\")\n",
        "\n",
        "else:\n",
        "    # Si hi ha algun error en la sol·licitud\n",
        "    print(f\"Error {response.status_code}: Hi ha hagut algun error en la sol·licitud.\")"
      ],
      "metadata": {
        "colab": {
          "base_uri": "https://localhost:8080/"
        },
        "id": "rRsgBqgZvvRP",
        "outputId": "c51da974-ab46-4850-cd8e-acbd54e323b3"
      },
      "execution_count": 5,
      "outputs": [
        {
          "output_type": "stream",
          "name": "stdout",
          "text": [
            "El primer posts te com a titol: sunt aut facere repellat provident occaecati excepturi optio reprehenderit\n",
            "El seu comentari es: quia et suscipit\n",
            "suscipit recusandae consequuntur expedita et cum\n",
            "reprehenderit molestiae ut ut quas totam\n",
            "nostrum rerum est autem sunt rem eveniet architecto\n"
          ]
        }
      ]
    },
    {
      "cell_type": "code",
      "source": [
        "### Un segon exemple per a trobar el producte millor valorat d'un store\n",
        "\n",
        "import requests\n",
        "\n",
        "base_url = \"https://fakestoreapi.com/products/\"\n",
        "\n",
        "# Fer la sol·licitud GET\n",
        "response = requests.get(base_url)\n",
        "\n",
        "if response.status_code == 200:\n",
        "    # Extreure les dades en format JSON\n",
        "    dades = response.json()\n",
        "    dades_ordenades = sorted(dades, key=lambda x: x['rating']['rate'], reverse=True)\n",
        "    best_product= dades_ordenades[0]['title']\n",
        "    print(f\"Best rated product: {best_product}\")\n",
        "else:\n",
        "    # Si hi ha algun error en la sol·licitud\n",
        "    print(f\"Error {response.status_code}: Hi ha hagut algun error en la sol·licitud.\")\n",
        "\n",
        "\n",
        "\n",
        "\n"
      ],
      "metadata": {
        "colab": {
          "base_uri": "https://localhost:8080/"
        },
        "id": "8ds9-F8b0aPI",
        "outputId": "dbb4ece2-7a54-4f29-b72d-031232a9f8ae"
      },
      "execution_count": 14,
      "outputs": [
        {
          "output_type": "stream",
          "name": "stdout",
          "text": [
            "Best rated product: Pierced Owl Rose Gold Plated Stainless Steel Double\n"
          ]
        }
      ]
    },
    {
      "cell_type": "markdown",
      "source": [
        "**Exercici 2. Obtenir dades amb Web Scraping**\n",
        "\n",
        "Selecciona un lloc web i extreu dades utilitzant la tècnica de Web Scraping a Python."
      ],
      "metadata": {
        "id": "sZsG32PH4-Mt"
      }
    },
    {
      "cell_type": "code",
      "source": [
        "from bs4 import BeautifulSoup\n",
        "import requests\n",
        "import re\n",
        "\n",
        "# USER AGENT\n",
        "headers = {    \"User-Agent\": \"Mozilla/5.0 (Macintosh; Intel Mac OS X 10_15_7) AppleWebKit/537.36 (KHTML, like Gecko) Chrome/120.0.0.0 Safari/537.36\",}\n",
        "url = 'https://www.farmaciabolos.com'\n",
        "response = requests.get(url,headers=headers)\n",
        "soup = BeautifulSoup(response.text, 'html.parser')\n",
        "products = soup.find_all('div', class_='product-description')\n",
        "for product in products:\n",
        "  title = product.find('h4', class_='product-title').text\n",
        "  price = product.find('span', class_='price').text\n",
        "  print(f'{title} --> {price}')\n",
        "\n"
      ],
      "metadata": {
        "colab": {
          "base_uri": "https://localhost:8080/"
        },
        "id": "ZFT7_cMj5CoU",
        "outputId": "4425e5b2-cf0f-41b7-bd33-14d426d63c5e"
      },
      "execution_count": 27,
      "outputs": [
        {
          "output_type": "stream",
          "name": "stdout",
          "text": [
            "Synvisc One Hylan G F 20 48 mg jeringa 6 ml --> 194,00 €\n",
            "Adant One --> 130,00 €\n",
            "Durolane Hialuronato Sódico 60 mg jeringa 3 ml --> 170,00 €\n",
            "ISDIN SOLAR FUSION WATER MAGIC SPF50+ 50ML --> 26,95 €\n",
            "SKINCEUTICALS C E FERULIC TTO TRIPLE ANTIOXIDANT 30ML --> 175,50 €\n",
            "Caudalie Crema exfoliante suave --> 21,20 €\n",
            "Skinceuticals Advanced brightening UV defense SPF50 40 ML --> 43,80 €\n",
            "Phytocyane Mujer Caída Progresiva 12 ampollas --> 53,80 €\n",
            "Rene Furterer Triphasic tratamiento caida reaccional 12 ampollas x 5ml --> 65,70 €\n",
            "Lazartigue Champú Repair 250ml --> 19,95 €\n",
            "Rene Furterer Triphasic caida progresiva 8 amp x 5.5ml --> 76,00 €\n",
            "Synvisc One Hylan G F 20 48 mg jeringa 6 ml --> 194,00 €\n",
            "Durolane Hialuronato Sódico 60 mg jeringa 3 ml --> 170,00 €\n",
            "Adant One --> 130,00 €\n",
            "BLISSCOLAGENO ONE SOBRES 30 SOBRES --> 52,25 €\n",
            "Cingal Acido Hyaluronico --> 200,00 €\n",
            "Renehavis a 120 euros --> 120,00 €\n",
            "Adant --> 55,00 €\n",
            "BLISSQ10 60 CAPSULES --> 48,93 €\n",
            "BIOVISC ORTHO SINGLE  3% --> 299,00 €\n",
            "ARTHRUM VISC MONO 75 JERINGA PRECARGADA HIALURONATO S --> 95,00 €\n"
          ]
        }
      ]
    }
  ]
}
